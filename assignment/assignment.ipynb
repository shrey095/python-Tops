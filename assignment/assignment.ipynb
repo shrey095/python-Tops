{
 "cells": [
  {
   "cell_type": "markdown",
   "id": "dc230821-3ea7-4906-97bb-e8ce7bfe4997",
   "metadata": {},
   "source": [
    "# Q1) What are the types of Applications? "
   ]
  },
  {
   "cell_type": "markdown",
   "id": "563e3824-e647-42dd-9411-721ea3ac8009",
   "metadata": {},
   "source": [
    "-->Key applications of Python:\n",
    "\n",
    "*Web Development:\n",
    "                Building dynamic and interactive websites using frameworks like Django and Flask. \n",
    "\n",
    "*Data Science and Machine Learning:\n",
    "                Analyzing large datasets, creating predictive models, and performing complex statistical calculations using libraries like NumPy, Pandas, and Scikit-learn. \n",
    "\n",
    "*Automation Scripting:\n",
    "                Automating repetitive tasks like file manipulation, data extraction, and system administration through simple scripts. \n",
    "\n",
    "*Scientific Computing:\n",
    "                Solving complex mathematical problems and data visualization with libraries like SciPy and Matplotlib. \n",
    "\n",
    "*Game Development:\n",
    "                Creating simple to complex games using libraries like Pygame. \n",
    "\n",
    "*Image Processing:\n",
    "                Manipulating and analyzing images using libraries like OpenCV \n",
    "\n",
    "*Desktop GUI Applications:\n",
    "                Building graphical user interfaces for desktop applications using libraries like Tkinter. \n",
    "\n",
    "*Education:\n",
    "        Beginner-friendly syntax makes Python ideal for teaching programming concepts. \n"
   ]
  },
  {
   "cell_type": "markdown",
   "id": "825cae2a-1c60-47a0-a377-29258add9a2d",
   "metadata": {},
   "source": [
    "# Q2) What is programing?\n"
   ]
  },
  {
   "cell_type": "markdown",
   "id": "a8877f15-ed55-46ef-a817-2b270e382f06",
   "metadata": {},
   "source": [
    "-->Programming is the process of writing instructions for a computer to follow, or code, in order to solve problems. It is a collaboration between humans and computers. "
   ]
  },
  {
   "cell_type": "markdown",
   "id": "e5c152f5-7e09-48da-ab5d-e53abb17b576",
   "metadata": {},
   "source": [
    "# Q3) What is Python?\n"
   ]
  },
  {
   "cell_type": "markdown",
   "id": "cbdd1117-6045-4987-99b5-900641797c92",
   "metadata": {},
   "source": [
    "-->Python is a high level programming language that can be used for many tasks, including web development, data analysis, and software testing"
   ]
  },
  {
   "cell_type": "markdown",
   "id": "f2ba8e09-8aaa-4c1d-ad1f-65796f3eeb9b",
   "metadata": {},
   "source": [
    "# Q4) Write a Python program to check if a number is positive, negative or zero."
   ]
  },
  {
   "cell_type": "code",
   "execution_count": 1,
   "id": "3d93047e-6a0b-4e50-8295-b028a97be516",
   "metadata": {},
   "outputs": [
    {
     "name": "stdin",
     "output_type": "stream",
     "text": [
      "Enter the Number :  5\n"
     ]
    },
    {
     "name": "stdout",
     "output_type": "stream",
     "text": [
      "5 is positive number\n"
     ]
    }
   ],
   "source": [
    "num = int(input(\"Enter the Number : \"))\n",
    "if num>0:\n",
    "    print(f\"{num} is positive number\")\n",
    "elif num<0:\n",
    "    printf(f\"{num} is negative number\")\n",
    "else:\n",
    "    print(f\"{num} is zero\")"
   ]
  },
  {
   "cell_type": "markdown",
   "id": "f5e5af91-4360-4a1c-a868-9b579d0f18a8",
   "metadata": {},
   "source": [
    "# Q5) Write a Python program to get the Factorial number of given numbers. "
   ]
  },
  {
   "cell_type": "code",
   "execution_count": 2,
   "id": "f53f6be9-2df9-4ebe-a9f4-ffdbedb829f8",
   "metadata": {},
   "outputs": [
    {
     "name": "stdin",
     "output_type": "stream",
     "text": [
      "Enter the Number :  5\n"
     ]
    },
    {
     "name": "stdout",
     "output_type": "stream",
     "text": [
      "Factorial of 5 = 120\n"
     ]
    }
   ],
   "source": [
    "fact=1\n",
    "n=int(input(\"Enter the Number : \"))\n",
    "for i in range(1,n+1):\n",
    "    fact=fact*i\n",
    "    i=+1\n",
    "print(f\"Factorial of {n} = {fact}\")"
   ]
  },
  {
   "cell_type": "markdown",
   "id": "5da7903c-f92e-48c5-b635-862ec9ea4d5b",
   "metadata": {},
   "source": [
    "# Q6) Write a Python program to get the Fibonacci series of given range. "
   ]
  },
  {
   "cell_type": "code",
   "execution_count": 3,
   "id": "dfaa7d48-adc8-48aa-bba7-11ab40f17f02",
   "metadata": {},
   "outputs": [
    {
     "name": "stdin",
     "output_type": "stream",
     "text": [
      "Enter the First Number   :  0\n",
      "Enter the Secound Number :  1\n",
      "Enter the howmany terms you print :  5\n"
     ]
    },
    {
     "name": "stdout",
     "output_type": "stream",
     "text": [
      "0\n",
      "1\n",
      "1\n",
      "2\n",
      "3\n"
     ]
    }
   ],
   "source": [
    "n1=int(input(\"Enter the First Number   : \"))\n",
    "n2=int(input(\"Enter the Secound Number : \"))\n",
    "n=int(input(\"Enter the howmany terms you print : \"))\n",
    "\n",
    "if n<=0:\n",
    "    print(\"Plses enter velied number\")\n",
    "elif n==1:\n",
    "    print(n1)\n",
    "elif n==2:\n",
    "    print(n1)\n",
    "    print(n2)\n",
    "else:\n",
    "    print(n1)\n",
    "    print(n2)\n",
    "    for j in range(0,n-2):\n",
    "        fibo=n1+n2\n",
    "        print(fibo)\n",
    "        n1=n2\n",
    "        n2=fibo"
   ]
  },
  {
   "cell_type": "markdown",
   "id": "c075f078-8ff9-45af-8f9a-15dc3ac1fda5",
   "metadata": {},
   "source": [
    "# Q7) How memory is managed in Python?\n"
   ]
  },
  {
   "cell_type": "markdown",
   "id": "6a057583-0d83-4159-9b1c-bac44fd308e0",
   "metadata": {},
   "source": [
    "-->Python manages memory using a private heap, a garbage collector, and reference counting. This allows Python to automatically allocate and deallocate memory as needed. "
   ]
  },
  {
   "cell_type": "markdown",
   "id": "cd25aece-d274-4b64-9be4-58c93e22e91a",
   "metadata": {},
   "source": [
    "# Q8) What is the purpose continuing statement in python? "
   ]
  },
  {
   "cell_type": "markdown",
   "id": "d9fb6c3a-d0e7-40d5-b420-aa97045fdd01",
   "metadata": {},
   "source": [
    "-->The continue statement in Python skips the remaining code in a loop for the current iteration and continues with the next iteration. It's a loop control statement that's useful when you want to skip certain values or conditions in a loop. "
   ]
  },
  {
   "cell_type": "markdown",
   "id": "e1722100-72fb-4492-862d-a539e72252e9",
   "metadata": {},
   "source": [
    "# Q9) Write python program that swap two number with temp variable  and without temp variable. "
   ]
  },
  {
   "cell_type": "code",
   "execution_count": 6,
   "id": "1224528a-5270-4a51-bba4-bb58d68c3aaa",
   "metadata": {},
   "outputs": [
    {
     "name": "stdin",
     "output_type": "stream",
     "text": [
      "Enter the first number   :  1\n",
      "Enter the secound number :  2\n"
     ]
    },
    {
     "name": "stdout",
     "output_type": "stream",
     "text": [
      "\n",
      "Befor swaping\n",
      "First number value    =  1\n",
      "Secound number value = 2 \n",
      "\n",
      "After swaping\n",
      "First number value    =  2\n",
      "Secound number value = 1 \n"
     ]
    }
   ],
   "source": [
    "# with temp variable\n",
    "n1=int(input(\"Enter the first number   : \"))\n",
    "n2=int(input(\"Enter the secound number : \"))\n",
    "\n",
    "print()\n",
    "print(\"Befor swaping\")\n",
    "print(\"First number value    = \",n1)\n",
    "print(f\"Secound number value = {n2} \")\n",
    "\n",
    "temp=n1\n",
    "n1=n2\n",
    "n2=temp\n",
    "\n",
    "print()\n",
    "print(\"After swaping\")\n",
    "print(\"First number value    = \",n1)\n",
    "print(f\"Secound number value = {n2} \")\n",
    "\n",
    "\n"
   ]
  },
  {
   "cell_type": "code",
   "execution_count": 7,
   "id": "982b7038-39c2-4ac7-a34b-c3544f4b5ca8",
   "metadata": {},
   "outputs": [
    {
     "name": "stdin",
     "output_type": "stream",
     "text": [
      "Enter the first number   :  5\n",
      "Enter the secound number :  4\n"
     ]
    },
    {
     "name": "stdout",
     "output_type": "stream",
     "text": [
      "\n",
      "Befor swaping\n",
      "First number value    =  5\n",
      "Secound number value = 4 \n",
      "\n",
      "After swaping\n",
      "First number value    =  4\n",
      "Secound number value = 5 \n"
     ]
    }
   ],
   "source": [
    "# without temp variable\n",
    "n1=int(input(\"Enter the first number   : \"))\n",
    "n2=int(input(\"Enter the secound number : \"))\n",
    "\n",
    "print()\n",
    "print(\"Befor swaping\")\n",
    "print(\"First number value    = \",n1)\n",
    "print(f\"Secound number value = {n2} \")\n",
    "\n",
    "n1=n1+n2\n",
    "n2=n1-n2\n",
    "n1=n1-n2\n",
    "\n",
    "print()\n",
    "print(\"After swaping\")\n",
    "print(\"First number value    = \",n1)\n",
    "print(f\"Secound number value = {n2} \")\n"
   ]
  },
  {
   "cell_type": "markdown",
   "id": "ea39e2c8-2e03-4efe-86fe-d0f969680574",
   "metadata": {},
   "source": [
    "# Q10) Write a Python program to find whether a given number is even or odd, print out an appropriate message to the user."
   ]
  },
  {
   "cell_type": "code",
   "execution_count": 24,
   "id": "6337a917-ccff-48c8-90b9-54611e518af4",
   "metadata": {},
   "outputs": [
    {
     "name": "stdin",
     "output_type": "stream",
     "text": [
      "Enter the number :  5\n"
     ]
    },
    {
     "name": "stdout",
     "output_type": "stream",
     "text": [
      "5 is odd number\n"
     ]
    }
   ],
   "source": [
    "num=int(input(\"Enter the number : \"))\n",
    "\n",
    "if num%2==0:\n",
    "    print(f\"{num} is even number\")\n",
    "else:\n",
    "    print(f\"{num} is odd number\")"
   ]
  },
  {
   "cell_type": "markdown",
   "id": "e47927d3-70b3-4b5c-a690-aeea113af0b9",
   "metadata": {},
   "source": [
    "# Q11) Write a Python program to test whether a passed letter is a vowel or not. "
   ]
  },
  {
   "cell_type": "code",
   "execution_count": 5,
   "id": "2e3a056b-bdb8-409e-80b7-4b5c46f6b60b",
   "metadata": {},
   "outputs": [
    {
     "name": "stdin",
     "output_type": "stream",
     "text": [
      "Enter only one letter :  a\n"
     ]
    },
    {
     "name": "stdout",
     "output_type": "stream",
     "text": [
      "the 'a' is a vowel\n"
     ]
    }
   ],
   "source": [
    "# This approach will use the string indexing to extract only a single required character from the user input.\n",
    "# char= input(\"Enter only one letter : \")[0]\n",
    "\n",
    "# if char=='a' or  char=='e' or  char=='i' or  char=='o' or  char=='u' or  char=='A' or  char=='E' or char=='I' or char=='O' or  char=='U':\n",
    "#     print(f\"{char} is a vowel\")\n",
    "# else:\n",
    "#     print(f\"{char} is not a vowel\")\n",
    "\n",
    "# or\n",
    "char = input(\"Enter only one letter : \")[0]\n",
    "l = ['a','e','i','o','u','A','E','I','O','U']\n",
    "\n",
    "if char in l:\n",
    "    print(f\"the '{char}' is a vowel\")\n",
    "else:\n",
    "    print(f\"the '{char}' is not a vowel\")\n",
    "    \n"
   ]
  },
  {
   "cell_type": "markdown",
   "id": "e8e5c643-8b0f-4a23-ab6c-7910679282e8",
   "metadata": {},
   "source": [
    "# Q12) Write a Python program to sum of three given integers. However, if two values are equal sum will be zero"
   ]
  },
  {
   "cell_type": "code",
   "execution_count": 31,
   "id": "39f439d0-cbd9-4fd6-93d4-45cde175fa37",
   "metadata": {},
   "outputs": [
    {
     "name": "stdin",
     "output_type": "stream",
     "text": [
      "Enter the first number   : 5\n",
      "Enter the secound number : 3\n",
      "enter the thired number  :  7\n"
     ]
    },
    {
     "name": "stdout",
     "output_type": "stream",
     "text": [
      "\n",
      "Sum of three given integers = 15 \n"
     ]
    }
   ],
   "source": [
    "num1=int(input(\"Enter the first number   :\"))\n",
    "num2=int(input(\"Enter the secound number :\"))\n",
    "num3=int(input(\"enter the third number  : \"))\n",
    "\n",
    "print()\n",
    "if num1==num2 or num2==num3 or num3==num1:\n",
    "    summ=0\n",
    "    print(f\"Sum of three given integers = {summ}\")\n",
    "else:\n",
    "    summ=num1+num2+num3\n",
    "    print(f\"Sum of three given integers = {summ} \")\n"
   ]
  },
  {
   "cell_type": "markdown",
   "id": "e5cb63a0-8742-491b-84a7-abf45d116c92",
   "metadata": {},
   "source": [
    "# Q13) Write a Python program that will return true if the two given integer values are equal or their sum or difference is 5."
   ]
  },
  {
   "cell_type": "code",
   "execution_count": 1,
   "id": "c44caae1-65bb-4f0b-938e-912e0b664b88",
   "metadata": {},
   "outputs": [
    {
     "name": "stdin",
     "output_type": "stream",
     "text": [
      "Enter the first number  :  2\n",
      "Enter the secound nuber :  3\n"
     ]
    },
    {
     "name": "stdout",
     "output_type": "stream",
     "text": [
      "\n",
      "True\n"
     ]
    }
   ],
   "source": [
    "num1=int(input(\"Enter the first number  : \"))\n",
    "num2=int(input(\"Enter the secound nuber : \"))\n",
    "\n",
    "print()\n",
    "if num1==num2 or num1+num2==5 or num1-num2==5 or num2-num1==5: # exter abs(num1-num2)==5\n",
    "    print(True)\n",
    "else:\n",
    "    print(False)\n"
   ]
  },
  {
   "cell_type": "markdown",
   "id": "2abadad4-7841-46f1-a9aa-b1089b7be95f",
   "metadata": {},
   "source": [
    "# Q14) Write a python program to sum of the first n positive integers. "
   ]
  },
  {
   "cell_type": "code",
   "execution_count": 6,
   "id": "18defa8e-bf1e-464c-873d-3be5a5bf7c2d",
   "metadata": {},
   "outputs": [
    {
     "name": "stdin",
     "output_type": "stream",
     "text": [
      "Enter the value of N :  4\n"
     ]
    },
    {
     "name": "stdout",
     "output_type": "stream",
     "text": [
      "\n",
      "1 + 2 + 3 + 4 = 10\n"
     ]
    }
   ],
   "source": [
    "n=int(input(\"Enter the value of N : \"))\n",
    "print()\n",
    "summ=0\n",
    "if n>0:\n",
    "    for i in range(1,n+1):\n",
    "        # summ=summ+i   \n",
    "        summ = n*(n+1)//2   # using the formula\n",
    "        if i < n:\n",
    "            print(f\"{i} + \", end=\"\")  # print numbers with + on the same line\n",
    "        else:\n",
    "            print(f\"{i}\", end=\"\")  # print the last number without +\n",
    "    print(f\" = {summ}\")\n",
    "else:\n",
    "    print(\"not possible sum of the first n positive integers\")"
   ]
  },
  {
   "cell_type": "markdown",
   "id": "f6c57daa-f218-4c36-a0d8-0b2783da38ab",
   "metadata": {},
   "source": [
    "# Q15) Write a Python program to calculate the length of a string. "
   ]
  },
  {
   "cell_type": "code",
   "execution_count": 7,
   "id": "6c1f6cc5-96e1-46a1-8d4a-105dd7cf941e",
   "metadata": {},
   "outputs": [
    {
     "name": "stdin",
     "output_type": "stream",
     "text": [
      "Enter the String :  a a a \n"
     ]
    },
    {
     "name": "stdout",
     "output_type": "stream",
     "text": [
      "Langth of String =  5\n"
     ]
    }
   ],
   "source": [
    "# str1=input(\"Enter the String : \")\n",
    "# print(f\"Langth of String = {len(str1)}\")\n",
    "\n",
    "# or\n",
    "\n",
    "lan=0\n",
    "str1=input(\"Enter the String : \").strip()\n",
    "for char in str1:\n",
    "    # lan +=1\n",
    "    lan=lan+1\n",
    "print(\"Langth of String = \",lan)"
   ]
  },
  {
   "cell_type": "markdown",
   "id": "d0e5c7c6-d4d9-4282-9d99-41fe43430f2c",
   "metadata": {},
   "source": [
    "# Q16) Write a Python program to count the number of characters (character frequency) in a string "
   ]
  },
  {
   "cell_type": "code",
   "execution_count": 13,
   "id": "59c0a25d-600f-4a55-a6ee-2c3b4e4e1f53",
   "metadata": {},
   "outputs": [
    {
     "name": "stdin",
     "output_type": "stream",
     "text": [
      "Enter the String :  sadad aa dff cs a\n"
     ]
    },
    {
     "name": "stdout",
     "output_type": "stream",
     "text": [
      "{'s': 2, 'a': 5, 'd': 3, ' ': 4, 'f': 2, 'c': 1}\n"
     ]
    }
   ],
   "source": [
    "t={}\n",
    "str1=input(\"Enter the String : \")\n",
    "for i in str1:\n",
    "    if i in t:\n",
    "        t[i]+=1\n",
    "    else:\n",
    "        t[i]=1\n",
    "print(t)\n",
    "\n"
   ]
  },
  {
   "cell_type": "markdown",
   "id": "e0f9f979-1b4d-4e08-8773-82c9183ce78a",
   "metadata": {},
   "source": [
    "# Q17) What are negative indexes and why are they used? "
   ]
  },
  {
   "cell_type": "markdown",
   "id": "d445c266-b97a-4805-91ed-e2792a4b52f6",
   "metadata": {},
   "source": [
    "--> In Python, negative indexes are a way to access elements within a sequence (like a list or string) from the end of the sequence, where the last element is considered index -1, the second-to-last is -2, and so on.\n",
    "\n",
    "-->they are used to conveniently access elements near the end of a sequence without having to calculate their position from the beginning, making your code more concise and readable. "
   ]
  },
  {
   "cell_type": "markdown",
   "id": "18da7f9c-8588-4f7d-8514-59bb008692b7",
   "metadata": {},
   "source": [
    "# Q18) Write a Python program to count occurrences of a substring in a string. "
   ]
  },
  {
   "cell_type": "code",
   "execution_count": 42,
   "id": "bcdafd9f-61f9-4373-991a-eede94a540d2",
   "metadata": {},
   "outputs": [
    {
     "name": "stdin",
     "output_type": "stream",
     "text": [
      "Enter the String    :  hello msd vcj hell hbwjs hello\n",
      "Enter the Substring :  hell\n"
     ]
    },
    {
     "name": "stdout",
     "output_type": "stream",
     "text": [
      "3\n"
     ]
    }
   ],
   "source": [
    "str1 = input(\"Enter the String    : \")\n",
    "str2 = input(\"Enter the Substring : \")\n",
    "\n",
    "print(str1.count(str2))"
   ]
  },
  {
   "cell_type": "markdown",
   "id": "5e7fadd5-c0e7-4d4d-a6f5-3c533ad764f5",
   "metadata": {},
   "source": [
    "# Q19) Write a Python program to count the occurrences of each word in a  given sentence"
   ]
  },
  {
   "cell_type": "code",
   "execution_count": 55,
   "id": "c6883f04-6cac-4f16-b556-a694bbb4717a",
   "metadata": {},
   "outputs": [
    {
     "name": "stdin",
     "output_type": "stream",
     "text": [
      "Enter the String :  hello hy ok np hello hy\n"
     ]
    },
    {
     "name": "stdout",
     "output_type": "stream",
     "text": [
      "{'hello': 2, 'hy': 2, 'ok': 1, 'np': 1}\n"
     ]
    }
   ],
   "source": [
    "t={}\n",
    "str1=input(\"Enter the String : \").split()\n",
    "\n",
    "for i in str1:\n",
    "    if i in t:\n",
    "        t[i]+=1\n",
    "    else:\n",
    "        t[i]=1\n",
    "print(t)"
   ]
  },
  {
   "cell_type": "markdown",
   "id": "91406eea-036c-4200-9544-f81363fcf88f",
   "metadata": {},
   "source": [
    "# Q20) Write a Python program to get a single string from two given strings, separated by a space and swap the first two characters of each string."
   ]
  },
  {
   "cell_type": "code",
   "execution_count": 76,
   "id": "ad73c1bf-3f37-416d-97f3-d6c4a22ee8b0",
   "metadata": {},
   "outputs": [
    {
     "name": "stdin",
     "output_type": "stream",
     "text": [
      "Enter the String1 :  jay\n",
      "Enter the String2 :  shrey\n"
     ]
    },
    {
     "name": "stdout",
     "output_type": "stream",
     "text": [
      "shy jarey\n"
     ]
    }
   ],
   "source": [
    "str1 = input(\"Enter the String1 : \")\n",
    "str2 = input(\"Enter the String2 : \")\n",
    "\n",
    "str3 =str2[:2]+str1[2:] + \" \" + str1[0:2]+str2[2:]\n",
    "print(str3)"
   ]
  },
  {
   "cell_type": "markdown",
   "id": "f6137878-abf4-46ad-ad17-b9f693d80328",
   "metadata": {},
   "source": [
    "# Q21) Write a Python program to add 'in' at the end of a given string (length should be at least 3). If the given string already ends with 'ing' then add 'ly' instead if the string length of the given string is less than 3, leave it unchanged."
   ]
  },
  {
   "cell_type": "code",
   "execution_count": 11,
   "id": "a42339de-669d-41b4-a845-9eb6ad78986b",
   "metadata": {},
   "outputs": [
    {
     "name": "stdout",
     "output_type": "stream",
     "text": [
      "kingly\n"
     ]
    }
   ],
   "source": [
    "def str1(s):\n",
    "  if len(s) < 3:\n",
    "    print(s)\n",
    "  elif s[-3:] == \"ing\":\n",
    "    print(s + \"ly\")\n",
    "  else:\n",
    "    print(s + \"ing\")\n",
    "\n",
    "str1(\"king\")"
   ]
  },
  {
   "cell_type": "markdown",
   "id": "a21f86b7-f796-4a92-8056-eec455d3daf7",
   "metadata": {},
   "source": [
    "# Q22) Write a Python function to reverses a string if its length is a multiple of 4. "
   ]
  },
  {
   "cell_type": "code",
   "execution_count": 3,
   "id": "64b8e722-f9dd-4cdd-945e-13fd0721b1e9",
   "metadata": {},
   "outputs": [
    {
     "name": "stdin",
     "output_type": "stream",
     "text": [
      "Enter a string:  appl\n"
     ]
    },
    {
     "name": "stdout",
     "output_type": "stream",
     "text": [
      "Output: lppa\n"
     ]
    }
   ],
   "source": [
    "def str1(s):\n",
    "    if len(s) % 4 == 0:\n",
    "        return s[::-1]\n",
    "    return s\n",
    "\n",
    "input_str = input(\"Enter a string: \")\n",
    "result = str1(input_str)\n",
    "print(\"Output:\", result)\n"
   ]
  },
  {
   "cell_type": "markdown",
   "id": "4bdeb611-1804-4ffd-a034-2ff72e40df87",
   "metadata": {},
   "source": [
    "# Q23) Write a Python program to get a string made of the first 2 and the last 2 chars from a given a string. If the string length is less than 2, return instead of the empty string. "
   ]
  },
  {
   "cell_type": "code",
   "execution_count": 4,
   "id": "740a220c-75c1-49e4-a042-b724be5a091d",
   "metadata": {},
   "outputs": [
    {
     "name": "stdin",
     "output_type": "stream",
     "text": [
      "Enter the string:  shrey\n"
     ]
    },
    {
     "name": "stdout",
     "output_type": "stream",
     "text": [
      "shey\n"
     ]
    }
   ],
   "source": [
    "def str1(st):\n",
    "  new_string = \"\"\n",
    "  if len(st) < 2:\n",
    "     print(new_string)\n",
    "  else:\n",
    "     new_string = st[0:2] + st[-2:]\n",
    "     print(new_string)\n",
    "\n",
    "user_input = input(\"Enter the string: \")\n",
    "str1(user_input)"
   ]
  },
  {
   "cell_type": "markdown",
   "id": "9ce3e92e-f702-4e40-989f-271d278e3d3c",
   "metadata": {},
   "source": [
    "# Q24) Write a Python function to insert a string in the middle of a string. \n"
   ]
  },
  {
   "cell_type": "code",
   "execution_count": 7,
   "id": "76ded7d6-8750-4c30-a54a-a92eeb8fd3ef",
   "metadata": {},
   "outputs": [
    {
     "name": "stdin",
     "output_type": "stream",
     "text": [
      "Enter the first string:  hello \n",
      "Enter the second string:  world\n"
     ]
    },
    {
     "name": "stdout",
     "output_type": "stream",
     "text": [
      "helworldlo \n"
     ]
    }
   ],
   "source": [
    "def str1(f1, f2):\n",
    "    mid = len(f1) // 2 \n",
    "    return f1[:mid] + f2 + f1[mid:] \n",
    "\n",
    "a1 = input(\"Enter the first string: \")\n",
    "a2 = input(\"Enter the second string: \")\n",
    "\n",
    "print(str1(a1, a2)) \n"
   ]
  },
  {
   "cell_type": "markdown",
   "id": "01f80335-f253-4d3a-aaed-a5ddf06835e7",
   "metadata": {},
   "source": [
    "# Q25) What is List? How will you reverse a list? \n"
   ]
  },
  {
   "cell_type": "markdown",
   "id": "dc0654ca-8eff-4f8f-889b-91adc4f8ad3a",
   "metadata": {},
   "source": [
    "-->In Python, a list is an ordered, mutable (changeable) sequence of items. \n",
    "\n",
    "-->Lists are defined by enclosing comma-separated items within square brackets []. \n",
    "\n",
    "-->They can contain elements of different data types, including numbers, strings, and even other lists.\n"
   ]
  },
  {
   "cell_type": "markdown",
   "id": "8cc3b1cb-5b3c-4096-bf9f-6f698e6cca89",
   "metadata": {},
   "source": [
    "# Q26) How will you remove last object from a list?\n"
   ]
  },
  {
   "cell_type": "markdown",
   "id": "cb3dbfcc-3b96-46da-aa64-f48d3e2bcea2",
   "metadata": {},
   "source": [
    "-->To remove the last object from a list in Python, you can use the .pop() method or slicing."
   ]
  },
  {
   "cell_type": "markdown",
   "id": "8def4c1b-e1ac-4c15-8a78-bbaad1de63e1",
   "metadata": {},
   "source": [
    "# Q27) Suppose list1 is [2, 33, 222, 14, and 25], what is list1 [-1]?"
   ]
  },
  {
   "cell_type": "code",
   "execution_count": 11,
   "id": "f68efcf4-f528-425d-963f-962e7f347d6e",
   "metadata": {},
   "outputs": [
    {
     "name": "stdout",
     "output_type": "stream",
     "text": [
      "25\n"
     ]
    }
   ],
   "source": [
    "list1 = [2, 33, 222, 14,25]\n",
    "print(list1[-1]) "
   ]
  },
  {
   "cell_type": "markdown",
   "id": "da001c4d-8315-4fbf-bb6b-39d0a091b6de",
   "metadata": {},
   "source": [
    "# Q28) Differentiate between append () and extend () methods?\n"
   ]
  },
  {
   "cell_type": "markdown",
   "id": "55a6ba09-f70f-4e57-be9d-00482277494a",
   "metadata": {},
   "source": [
    "-->Both append() and extend() are list methods in Python, but they behave differently.\n",
    "\n",
    "-->In Python, the \"append()\" method adds a single element to the end of a list, while the \"extend()\" method adds multiple elements from an iterable (like another list, tuple, or string) to the end of a list, essentially merging the iterable's elements into the existing list; meaning \"append\" adds one item at a time, whereas \"extend\" adds all items from an iterable individually"
   ]
  },
  {
   "cell_type": "markdown",
   "id": "d33c6361-27b0-4c7e-978b-284f862112c6",
   "metadata": {},
   "source": [
    "# Q29) Write a Python function to get the largest number, smallest num and sum of all from a list."
   ]
  },
  {
   "cell_type": "code",
   "execution_count": 12,
   "id": "f0f506ef-5723-4449-82a4-bce69decc4e5",
   "metadata": {},
   "outputs": [
    {
     "name": "stdout",
     "output_type": "stream",
     "text": [
      "minimum number :- 1\n",
      "maximum number :- 5\n",
      "Total sum of the list :- 15\n"
     ]
    }
   ],
   "source": [
    "list1 = [1,2,3,4,5]\n",
    "print(\"minimum number :-\",min(list1))\n",
    "print(\"maximum number :-\",max(list1))\n",
    "print(\"Total sum of the list :-\",sum(list1))"
   ]
  },
  {
   "cell_type": "markdown",
   "id": "6c50031a-02a3-41f9-b5a2-ce803367ef60",
   "metadata": {},
   "source": [
    "# Q30) How will you compare two lists? \n"
   ]
  },
  {
   "cell_type": "markdown",
   "id": "d372256e-2af5-4c10-a592-5871f26700c2",
   "metadata": {},
   "source": [
    "-->To compare two lists in Python, several approaches can be used depending on the specific comparison criteria:\n",
    "\n",
    "\n",
    " Method\t                      Use Case\n",
    "==\t           When order matters\n",
    "set()\t       When order doesn't matter, and no duplicates\n",
    "sorted()\t   When order doesn't matter, even with duplicates\n",
    "Counter()\t   When order doesn't matter, and duplicates exist"
   ]
  },
  {
   "cell_type": "markdown",
   "id": "63dec3ad-2e81-4aa1-9743-e5cc5ead97f5",
   "metadata": {},
   "source": [
    "# Q31) Write a Python program to count the number of strings where the string  length is 2 or more and the first and last character are same from a given list of strings. "
   ]
  },
  {
   "cell_type": "code",
   "execution_count": 11,
   "id": "4f07bf1e-c0e5-4d91-89b9-da39748848f8",
   "metadata": {},
   "outputs": [
    {
     "data": {
      "text/plain": [
       "2"
      ]
     },
     "execution_count": 11,
     "metadata": {},
     "output_type": "execute_result"
    }
   ],
   "source": [
    "def las1(user_string):\n",
    "  count = 0\n",
    "  for words in user_string:\n",
    "    if len(words) >= 2 and words[0] == words[-1]:\n",
    "      count += 1\n",
    "  return count\n",
    "\n",
    "user_input = [\"shrey\",\"kavish\",\"MoM\",\"NooN\"]\n",
    "las1(user_input)"
   ]
  },
  {
   "cell_type": "markdown",
   "id": "274af4a0-7638-4d3e-b23a-6bb26da9c11f",
   "metadata": {},
   "source": [
    "# Q32) Write a Python program to remove duplicates from a list. "
   ]
  },
  {
   "cell_type": "code",
   "execution_count": 15,
   "id": "42ad8c6a-6df5-45e4-a80b-bca902ddd907",
   "metadata": {},
   "outputs": [
    {
     "data": {
      "text/plain": [
       "['shrey', 'omm', 'MAM', 'NooN', 'man']"
      ]
     },
     "execution_count": 15,
     "metadata": {},
     "output_type": "execute_result"
    }
   ],
   "source": [
    "def remove_duplicate(list1):\n",
    "  uniqur_list = []\n",
    "  for i in list1:\n",
    "    if i not in uniqur_list:\n",
    "      uniqur_list.append(i)\n",
    "  return uniqur_list\n",
    "\n",
    "user_list = [\"shrey\",\"omm\",\"MAM\",\"NooN\",\"man\",\"omm\",\"shrey\"]\n",
    "remove_duplicate(user_list)"
   ]
  },
  {
   "cell_type": "markdown",
   "id": "fd1bb0cc-fa8d-4717-ba1a-d8716945c02b",
   "metadata": {},
   "source": [
    "# Q33) Write a Python program to check a list is empty or not. "
   ]
  },
  {
   "cell_type": "code",
   "execution_count": 17,
   "id": "3e4ffc84-05f0-46cc-994d-e5a870a73cfb",
   "metadata": {},
   "outputs": [
    {
     "name": "stdout",
     "output_type": "stream",
     "text": [
      "list is empty\n"
     ]
    }
   ],
   "source": [
    "l1 = []\n",
    "\n",
    "if len(l1) == 0:\n",
    "    print(\"list is empty\")\n",
    "else:\n",
    "    print(\"list is not empty\")\n"
   ]
  },
  {
   "cell_type": "markdown",
   "id": "89c7d1f8-b825-478b-a411-9de2aa9482ff",
   "metadata": {},
   "source": [
    "# 34) Write a Python function that takes two lists and returns true if they have at least one common member. "
   ]
  },
  {
   "cell_type": "code",
   "execution_count": 17,
   "id": "dc2287f9-f411-4394-96b2-177facf02216",
   "metadata": {},
   "outputs": [
    {
     "data": {
      "text/plain": [
       "True"
      ]
     },
     "execution_count": 17,
     "metadata": {},
     "output_type": "execute_result"
    }
   ],
   "source": [
    "l1 = [\"kp\",\"mp\",\"fp\",\"bp\"]\n",
    "l2 = [\"ding\",\"dang\",\"dung\",\"kp\"]\n",
    "\n",
    "def lists(L1,L2):\n",
    "  for i in L1:\n",
    "    if i in L2:\n",
    "      return True\n",
    "  return False\n",
    "\n",
    "lists(l1,l2)\n"
   ]
  },
  {
   "cell_type": "markdown",
   "id": "ebb73e61-cd7a-4d9b-a349-4444cf288317",
   "metadata": {},
   "source": [
    "# Q35) Write a Python program to generate and print a list of first and last 5 elements where the values are square of numbers between 1 and 30."
   ]
  },
  {
   "cell_type": "code",
   "execution_count": 18,
   "id": "6ff091e2-55b0-41d5-9351-5d9dab269adf",
   "metadata": {},
   "outputs": [
    {
     "name": "stdout",
     "output_type": "stream",
     "text": [
      "Sqare of 1 to 30 number list = [1, 4, 9, 16, 25, 36, 49, 64, 81, 100, 121, 144, 169, 196, 225, 256, 289, 324, 361, 400, 441, 484, 529, 576, 625, 676, 729, 784, 841, 900]\n",
      "final_list_with_first5_&_last5_elements =  [1, 4, 9, 16, 25, 676, 729, 784, 841, 900]\n"
     ]
    }
   ],
   "source": [
    "sqare_list = []\n",
    "for i in range(1,31):\n",
    "   sqare = i*i\n",
    "   sqare_list.append(sqare)\n",
    "print(f\"Sqare of 1 to 30 number list = {sqare_list}\")\n",
    "\n",
    "first_5_element = sqare_list[0:5]\n",
    "last_5_element = sqare_list[-5:]\n",
    "\n",
    "\n",
    "final_list = first_5_element + last_5_element\n",
    "print(\"final_list_with_first5_&_last5_elements = \" , final_list)"
   ]
  },
  {
   "cell_type": "markdown",
   "id": "49186483-8633-4edc-be4c-59997d4bbd87",
   "metadata": {},
   "source": [
    "# Q36) Write a Python function that takes a list and returns a new list with unique elements of the first list. "
   ]
  },
  {
   "cell_type": "code",
   "execution_count": 26,
   "id": "f9a3fde0-841f-4bf9-9499-031e20fa7742",
   "metadata": {},
   "outputs": [
    {
     "data": {
      "text/plain": [
       "['KP', 'JP', 'SP', 'DP', 'KN']"
      ]
     },
     "execution_count": 26,
     "metadata": {},
     "output_type": "execute_result"
    }
   ],
   "source": [
    "def list1(L1):\n",
    "  new_list = []\n",
    "  for i in l1:\n",
    "    if i not in new_list:\n",
    "      new_list.append(i)\n",
    "  return new_list\n",
    "\n",
    "l1 = [\"KP\",\"KP\",\"JP\",\"JP\",\"SP\",\"DP\",\"KN\",\"KN\"]\n",
    "list1(l1)"
   ]
  },
  {
   "cell_type": "markdown",
   "id": "6087dcad-fd38-435b-ad2f-df935bc0b707",
   "metadata": {},
   "source": [
    "# Q37) Write a Python program to convert a list of characters into a string. "
   ]
  },
  {
   "cell_type": "code",
   "execution_count": 21,
   "id": "df8907fc-9d68-40f8-974e-d10fa4890b5b",
   "metadata": {},
   "outputs": [
    {
     "data": {
      "text/plain": [
       "'shrey'"
      ]
     },
     "execution_count": 21,
     "metadata": {},
     "output_type": "execute_result"
    }
   ],
   "source": [
    "def la1(ch_list):\n",
    "  stri = \"\"\n",
    "  for i in ch_list:\n",
    "    stri = stri + i\n",
    "  return stri\n",
    "\n",
    "list = [\"s\",\"h\",\"r\",\"e\",\"y\"]\n",
    "la1(list)\n"
   ]
  },
  {
   "cell_type": "markdown",
   "id": "e322cd85-5646-4319-8cee-210c75c2ea64",
   "metadata": {},
   "source": [
    "# Q38) Write a Python program to select an item randomly from a list"
   ]
  },
  {
   "cell_type": "code",
   "execution_count": 31,
   "id": "cfc0e02b-b304-42b7-988c-e453a87bc27c",
   "metadata": {},
   "outputs": [
    {
     "name": "stdout",
     "output_type": "stream",
     "text": [
      "ab\n"
     ]
    }
   ],
   "source": [
    "import random as rand\n",
    "list = [\"ab\",\"bc\",\"cd\",\"ef\",\"gh\"]\n",
    "print(rand.choice(list))"
   ]
  },
  {
   "cell_type": "markdown",
   "id": "2e2738d9-f47f-4627-ae74-2aaea42fb9cd",
   "metadata": {},
   "source": [
    "# Q39) Write a Python program to find the second smallest number in a list."
   ]
  },
  {
   "cell_type": "code",
   "execution_count": 46,
   "id": "d3dc8f83-a22f-45cb-88a2-5b45349941f8",
   "metadata": {},
   "outputs": [
    {
     "name": "stdout",
     "output_type": "stream",
     "text": [
      "[1, 3, 4, 6, 8, 9]\n",
      "seconde_smallest_number :- 3\n"
     ]
    }
   ],
   "source": [
    "list = [1, 4, 3, 6, 8, 9]\n",
    "sorted_list = sorted(list) \n",
    "print(sorted_list)\n",
    "seconde_smallest_number = sorted_list[1]\n",
    "print(\"seconde_smallest_number :-\", seconde_smallest_number)\n"
   ]
  },
  {
   "cell_type": "markdown",
   "id": "cfd6e5a5-3edf-45eb-aacf-a1476bd50678",
   "metadata": {},
   "source": [
    "# Q40) Write a Python program to get unique values from a list "
   ]
  },
  {
   "cell_type": "code",
   "execution_count": 47,
   "id": "da5e15fe-3c64-41b2-ab92-38844740f28b",
   "metadata": {},
   "outputs": [
    {
     "data": {
      "text/plain": [
       "[1, 4, 3, 6, 8, 9, 2, 10, 12]"
      ]
     },
     "execution_count": 47,
     "metadata": {},
     "output_type": "execute_result"
    }
   ],
   "source": [
    "def las(L1):\n",
    "  new_list = []\n",
    "  for i in L1:\n",
    "    if i not in new_list:\n",
    "      new_list.append(i)\n",
    "  return new_list\n",
    "\n",
    "list1 = [1,4,3,6,8,9,9,4,3,2,1,10,12,12]\n",
    "las(list1)"
   ]
  },
  {
   "cell_type": "markdown",
   "id": "85ecee41-5de2-4e40-9466-fc8379c9aaea",
   "metadata": {},
   "source": [
    "# Q41) Write a Python program to check whether a list contains a sub list "
   ]
  },
  {
   "cell_type": "code",
   "execution_count": 48,
   "id": "ea2f25fd-89e9-449d-bc0f-bfd34304e512",
   "metadata": {},
   "outputs": [
    {
     "name": "stdout",
     "output_type": "stream",
     "text": [
      "yes s exhist in the main list\n",
      "yes r exhist in the main list\n",
      "no a not exhist in the main list\n",
      "no o not exhist in the main list\n"
     ]
    }
   ],
   "source": [
    "Main_List = [\"s\",\"h\",\"r\",\"e\",\"y\"]\n",
    "Sub_List = [\"s\",\"r\",\"a\",\"o\"]\n",
    "\n",
    "for i in Sub_List:\n",
    "  if i in Main_List:\n",
    "     print(f\"yes {i} exhist in the main list\")\n",
    "  else:\n",
    "    print(f\"no {i} not exhist in the main list\")"
   ]
  },
  {
   "cell_type": "markdown",
   "id": "dc90f2f1-6da3-4577-86a0-774dd1d97920",
   "metadata": {},
   "source": [
    "# Q42) Write a Python program to split a list into different variables."
   ]
  },
  {
   "cell_type": "code",
   "execution_count": 49,
   "id": "04c0efd4-f1a3-4367-943e-f2fe0e9af44b",
   "metadata": {},
   "outputs": [
    {
     "name": "stdout",
     "output_type": "stream",
     "text": [
      "10\n",
      "20\n",
      "30\n"
     ]
    }
   ],
   "source": [
    "main_list = [10,20,30]\n",
    "\n",
    "A,B,C = main_list\n",
    "\n",
    "print(A)\n",
    "print(B)\n",
    "print(C)"
   ]
  },
  {
   "cell_type": "markdown",
   "id": "9433df6a-52f7-43c0-84dd-3bace33acb4e",
   "metadata": {},
   "source": [
    "# Q43) What is tuple? Difference between list and tuple.\n"
   ]
  },
  {
   "cell_type": "markdown",
   "id": "2e8b8c6a-12cc-4644-b535-8bc800a71d5e",
   "metadata": {},
   "source": [
    "-->A tuple is an ordered, immutable (unchangeable) collection of elements in Python. It is defined using parentheses ().\n",
    " \n",
    "Feature               List                                        Tuple\n",
    "Mutability        Mutable (changeable)                      Immutable(unchangeable)\n",
    "Syntax          Defined using square brackets []         Defined using parentheses ()\n",
    "Operations      Supports various operations like         Limited operations due to immutability\n",
    "            insertion, deletion, and modification\n",
    "Memory       Less memory efficient                           More memory efficient\n",
    "Efficiency   \n"
   ]
  },
  {
   "cell_type": "markdown",
   "id": "2c9d44f7-196d-457c-be78-1f4f35a11785",
   "metadata": {},
   "source": [
    "# Q44) Write a Python program to create a tuple with different data types. "
   ]
  },
  {
   "cell_type": "code",
   "execution_count": 50,
   "id": "cea6c9d3-39bb-4972-b593-0758aff12f89",
   "metadata": {},
   "outputs": [
    {
     "name": "stdout",
     "output_type": "stream",
     "text": [
      "Main Tuple :-  (90, 3.14, 'hy', [10, 20, 23], {'a': 10, 'b': 20})\n",
      "\n",
      "90 and it's Type <class 'int'>\n",
      "3.14 and it's Type <class 'float'>\n",
      "hy and it's Type <class 'str'>\n",
      "[10, 20, 23] and it's Type <class 'list'>\n",
      "{'a': 10, 'b': 20} and it's Type <class 'dict'>\n"
     ]
    }
   ],
   "source": [
    "T = (90,3.14,\"hy\",[10,20,23],{'a':10,'b':20})\n",
    "\n",
    "print(\"Main Tuple :- \",T)\n",
    "print()\n",
    "for item in T:\n",
    "  print(f\"{item} and it's Type {type(item)}\")"
   ]
  },
  {
   "cell_type": "markdown",
   "id": "6e6295e8-f496-4c78-afdf-b6e033e75346",
   "metadata": {},
   "source": [
    "# Q45) Write a Python program to unzip a list of tuples into individual lists. "
   ]
  },
  {
   "cell_type": "code",
   "execution_count": 1,
   "id": "f89fbf1d-d07a-4e2c-9005-5214fe0f4e93",
   "metadata": {},
   "outputs": [
    {
     "name": "stdout",
     "output_type": "stream",
     "text": [
      "[1, 2, 3]\n",
      "[1, 2, 3]\n"
     ]
    }
   ],
   "source": [
    "list_of_tuple = [(1,1),(2,2),(3,3)]\n",
    "\n",
    "lst1,lst2 = zip(*list_of_tuple)\n",
    "\n",
    "l1=list(lst1)\n",
    "l2=list(lst2)\n",
    "\n",
    "list_one = l1\n",
    "list_two = l2\n",
    "\n",
    "print(l1)\n",
    "print(l2)"
   ]
  },
  {
   "cell_type": "markdown",
   "id": "7ba6a228-9439-42af-a092-965780da65fe",
   "metadata": {},
   "source": [
    "# Q46) Write a Python program to convert a list of tuples into a dictionary."
   ]
  },
  {
   "cell_type": "code",
   "execution_count": 2,
   "id": "74c3c07f-6b4d-48d0-beb7-2ddf21306225",
   "metadata": {},
   "outputs": [
    {
     "name": "stdout",
     "output_type": "stream",
     "text": [
      "{'A': 1, 'B': 2, 'C': 3}\n"
     ]
    },
    {
     "data": {
      "text/plain": [
       "dict_keys(['A', 'B', 'C'])"
      ]
     },
     "execution_count": 2,
     "metadata": {},
     "output_type": "execute_result"
    }
   ],
   "source": [
    "list_of_tuple = [(\"A\",1),(\"B\",2),(\"C\",3)]\n",
    "\n",
    "DICT1 = dict(list_of_tuple)\n",
    "\n",
    "print(DICT1)\n",
    "# DICT1.keys()\n"
   ]
  },
  {
   "cell_type": "markdown",
   "id": "a459c318-4133-4f45-a7fc-2f89b7eb18c6",
   "metadata": {},
   "source": [
    "# Q47) How will you create a dictionary using tuples in python? "
   ]
  },
  {
   "cell_type": "code",
   "execution_count": 23,
   "id": "02b1004a-c2bc-4beb-b848-118a61134bea",
   "metadata": {},
   "outputs": [
    {
     "name": "stdout",
     "output_type": "stream",
     "text": [
      "{'a': 1, 'b': 2, 'c': 3}\n"
     ]
    }
   ],
   "source": [
    "tuple_list = [(\"a\", 1), (\"b\", 2), (\"c\", 3)]\n",
    "\n",
    "my_dict = {key: value for key, value in tuple_list}\n",
    "\n",
    "print(my_dict)"
   ]
  },
  {
   "cell_type": "markdown",
   "id": "8526e57c-dfc8-42f6-9cab-a15508187c60",
   "metadata": {},
   "source": [
    "# Q48) Write a Python script to sort (ascending and descending) a dictionary by value. "
   ]
  },
  {
   "cell_type": "code",
   "execution_count": 4,
   "id": "202f18c6-b446-4777-bc11-f3804c57ed88",
   "metadata": {},
   "outputs": [
    {
     "name": "stdout",
     "output_type": "stream",
     "text": [
      "{'c': 2, 'a': 10, 'd': 12, 'b': 15}\n",
      "{'b': 15, 'd': 12, 'a': 10, 'c': 2}\n"
     ]
    }
   ],
   "source": [
    "dict1 = {'a':10,\n",
    "         'b':15,\n",
    "         'c':2,\n",
    "         'd':12}\n",
    "\n",
    "# Ascending order\n",
    "print(dict(sorted(dict1.items(), key=lambda x: x[1])))\n",
    "\n",
    "# Descending order\n",
    "print(dict(sorted(dict1.items(), key=lambda x: x[1], reverse=True)))"
   ]
  },
  {
   "cell_type": "markdown",
   "id": "aad3309e-e9e6-45d2-8d3f-874e670a3e17",
   "metadata": {},
   "source": [
    "# Q49) Write a Python script to concatenate following dictionaries to create a new one. "
   ]
  },
  {
   "cell_type": "code",
   "execution_count": 9,
   "id": "6f066531-d9b4-4b7b-ada3-8946cacc4319",
   "metadata": {},
   "outputs": [
    {
     "name": "stdout",
     "output_type": "stream",
     "text": [
      "{'a': 1, 'b': 2}\n"
     ]
    }
   ],
   "source": [
    "dict1 = {'a':1}\n",
    "dict2 = {'b':2}\n",
    "\n",
    "new_dect =  dict1 | dict2\n",
    "print(new_dect)\n",
    "\n",
    "# or\n",
    "\n",
    "# dict1 = {'a': 1}\n",
    "# dict2 = {'b': 2}\n",
    "\n",
    "# dict1.update(dict2)  \n",
    "# print(dict1)  \n"
   ]
  },
  {
   "cell_type": "markdown",
   "id": "ee59e517-1ffe-48f5-a8e9-fdf4b0bc5521",
   "metadata": {},
   "source": [
    "# Q50) Write a Python script to check if a given key already exists in a dictionary. "
   ]
  },
  {
   "cell_type": "code",
   "execution_count": 25,
   "id": "28a27df4-8f38-48d4-bd65-7e95f77c7d5a",
   "metadata": {},
   "outputs": [
    {
     "data": {
      "text/plain": [
       "'No the key is not exist'"
      ]
     },
     "execution_count": 25,
     "metadata": {},
     "output_type": "execute_result"
    }
   ],
   "source": [
    "main_script = {'a':1,'b':2}\n",
    "\n",
    "def dic(s):\n",
    "  if s in main_script:\n",
    "    return(\"yes the key is exists\")\n",
    "  else:\n",
    "    return(\"No the key is not exist\")\n",
    "\n",
    "dic('aa')"
   ]
  },
  {
   "cell_type": "markdown",
   "id": "8640efa3-5521-444d-afb4-3be77d4d5d2a",
   "metadata": {},
   "source": [
    "# Q51) How Do You Traverse Through a Dictionary Object in Python? "
   ]
  },
  {
   "cell_type": "code",
   "execution_count": 29,
   "id": "08d43caa-b417-4835-976c-2bd997fa143f",
   "metadata": {},
   "outputs": [
    {
     "name": "stdout",
     "output_type": "stream",
     "text": [
      "Traverse Through a Dictionary\n",
      "a 1\n",
      "b 2\n",
      "c 3\n"
     ]
    }
   ],
   "source": [
    "print(\"Traverse Through a Dictionary\")\n",
    "for key, value in my_dict.items():\n",
    "    print(key, value)  "
   ]
  },
  {
   "cell_type": "markdown",
   "id": "ef3eb4bc-e337-4176-857d-87e1440fd5d4",
   "metadata": {},
   "source": [
    "# Q52) How Do You Check the Presence of a Key in A Dictionary?"
   ]
  },
  {
   "cell_type": "code",
   "execution_count": 33,
   "id": "2bd76fff-2b9d-44c0-9653-b98605863ccf",
   "metadata": {},
   "outputs": [
    {
     "name": "stdin",
     "output_type": "stream",
     "text": [
      "Enter the key :  a\n"
     ]
    },
    {
     "name": "stdout",
     "output_type": "stream",
     "text": [
      "Key exists!\n"
     ]
    }
   ],
   "source": [
    "my_dict = {'a': 1, 'b': 2, 'c': 3}\n",
    "key=input(\"Enter the key : \")\n",
    "\n",
    "if key in my_dict:\n",
    "    print(\"Key exists!\")\n",
    "else:\n",
    "    print(\"Key not found.\")\n"
   ]
  },
  {
   "cell_type": "markdown",
   "id": "c98b2f24-0f08-4325-9537-624d436a2e87",
   "metadata": {},
   "source": [
    "# Q53) Write a Python script to print a dictionary where the keys are numbers between 1 and 15. "
   ]
  },
  {
   "cell_type": "code",
   "execution_count": 36,
   "id": "a5552fde-3655-45f0-85db-fd34d21154ac",
   "metadata": {},
   "outputs": [
    {
     "name": "stdout",
     "output_type": "stream",
     "text": [
      "{1: 1, 2: 8, 3: 27, 4: 64, 5: 125, 6: 216, 7: 343, 8: 512, 9: 729, 10: 1000, 11: 1331, 12: 1728, 13: 2197, 14: 2744, 15: 3375}\n"
     ]
    }
   ],
   "source": [
    "num_dict = {x: x**3 for x in range(1, 16)}\n",
    "print(num_dict)\n"
   ]
  },
  {
   "cell_type": "markdown",
   "id": "96504d4f-c534-4a7a-986b-a8c8623ddd26",
   "metadata": {},
   "source": [
    "# Q54) Write a Python program to check multiple keys exists in a dictionary"
   ]
  },
  {
   "cell_type": "code",
   "execution_count": 37,
   "id": "cd426ce2-7956-4d20-a0fe-2ef269ef21fb",
   "metadata": {},
   "outputs": [
    {
     "name": "stdout",
     "output_type": "stream",
     "text": [
      "All keys exist in the dictionary.\n"
     ]
    }
   ],
   "source": [
    "my_dict = {'a': 1, 'b': 2, 'c': 3, 'd': 4}\n",
    "\n",
    "keys_to_check = ['a', 'b', 'c']\n",
    "\n",
    "if all(key in my_dict for key in keys_to_check):\n",
    "    print(\"All keys exist in the dictionary.\")\n",
    "else:\n",
    "    print(\"Some keys are missing.\")\n",
    "\n",
    "\n",
    "# keys_to_check = ['x', 'b', 'z']\n",
    "\n",
    "# if any(key in my_dict for key in keys_to_check):\n",
    "#     print(\"At least one key exists in the dictionary.\")\n",
    "# else:\n",
    "#     print(\"None of the keys exist.\")\n",
    "\n"
   ]
  },
  {
   "cell_type": "markdown",
   "id": "f100c675-d5f7-4e2b-92d3-2230fa85d391",
   "metadata": {},
   "source": [
    "# Q55) Write a Python script to merge two Python dictionaries"
   ]
  },
  {
   "cell_type": "code",
   "execution_count": 38,
   "id": "69b8b579-c9d9-4a2a-99fd-a4727dda93d7",
   "metadata": {},
   "outputs": [
    {
     "name": "stdout",
     "output_type": "stream",
     "text": [
      "{'a': 1, 'b': 2, 'c': 3, 'd': 4}\n"
     ]
    }
   ],
   "source": [
    "dict1 = {'a': 1, 'b': 2}\n",
    "dict2 = {'c': 3, 'd': 4}\n",
    "\n",
    "dict1.update(dict2)\n",
    "\n",
    "print(dict1)\n"
   ]
  },
  {
   "cell_type": "markdown",
   "id": "f57e04de-c512-42f0-8dd1-a268f1836857",
   "metadata": {},
   "source": [
    "# Q56) Write a Python program to map two lists into a dictionary Sample output: Counter ({'a': 400, 'b': 400,’d’: 400, 'c': 300})."
   ]
  },
  {
   "cell_type": "code",
   "execution_count": 39,
   "id": "9ad6c45c-4f5f-4b8e-8912-07fa0b1ff84a",
   "metadata": {},
   "outputs": [
    {
     "name": "stdout",
     "output_type": "stream",
     "text": [
      "Counter Counter({'a': 400, 'b': 400, 'd': 400, 'c': 300})\n"
     ]
    }
   ],
   "source": [
    "from collections import Counter\n",
    "\n",
    "keys = ['a', 'b', 'c', 'd']\n",
    "values = [400, 400, 300, 400]\n",
    "\n",
    "mapped_dict = dict(zip(keys, values))\n",
    "\n",
    "counter_dict = Counter(mapped_dict)\n",
    "\n",
    "print(\"Counter\", counter_dict)\n"
   ]
  },
  {
   "cell_type": "markdown",
   "id": "b31c8444-3eba-4629-8457-cd49a39fafc2",
   "metadata": {},
   "source": [
    "# Q57) Write a Python program to find the highest 3 values in a dictionary "
   ]
  },
  {
   "cell_type": "code",
   "execution_count": 41,
   "id": "53617699-ae52-4872-bbef-57820a32e500",
   "metadata": {},
   "outputs": [
    {
     "name": "stdout",
     "output_type": "stream",
     "text": [
      "Highest 3 values :  [400, 300, 200]\n"
     ]
    }
   ],
   "source": [
    "my_dict = {'a': 50, 'b': 200, 'c': 150, 'd': 400, 'e': 300}\n",
    "\n",
    "top_3_values = sorted(my_dict.values(), reverse=True)[:3]\n",
    "\n",
    "print(\"Highest 3 values : \", top_3_values)\n"
   ]
  },
  {
   "cell_type": "markdown",
   "id": "861d9704-e18b-4545-8512-d11ba61c4cf6",
   "metadata": {},
   "source": [
    "# Q58) Write a Python program to combine values in python list of dictionaries. Sample data: [{'item': 'item1', 'amount': 400}, {'item': 'item2', 'amount': 300}, o {'item': 'item1', 'amount': 750}] Expected Output: • Counter ({'item1': 1150, 'item2': 300})"
   ]
  },
  {
   "cell_type": "code",
   "execution_count": 42,
   "id": "0860290d-7691-447b-b148-ab752a432a1e",
   "metadata": {},
   "outputs": [
    {
     "name": "stdout",
     "output_type": "stream",
     "text": [
      "Counter({'item1': 1150, 'item2': 300})\n"
     ]
    }
   ],
   "source": [
    "from collections import Counter\n",
    "\n",
    "# Sample data\n",
    "data = [{'item': 'item1', 'amount': 400}, {'item': 'item2', 'amount': 300},{'item': 'item1', 'amount': 750}]\n",
    "combined_data = Counter()\n",
    "\n",
    "for entry in data:\n",
    "    item=entry['item']\n",
    "    amount=entry['amount']\n",
    "    combined_data[item] += amount\n",
    "\n",
    "print(combined_data)\n"
   ]
  },
  {
   "cell_type": "markdown",
   "id": "95843672-c37e-49e0-8cdc-f51ba245cf43",
   "metadata": {},
   "source": [
    "# Q59) Write a Python program to create a dictionary from a string. Note: Track the count of the letters from the string."
   ]
  },
  {
   "cell_type": "code",
   "execution_count": 43,
   "id": "0d081fa9-93f2-4ec7-bbaa-64439438b741",
   "metadata": {},
   "outputs": [
    {
     "name": "stdout",
     "output_type": "stream",
     "text": [
      "Letter Frequency Dictionary: Counter({'l': 3, 'o': 2, 'h': 1, 'e': 1, ' ': 1, 'w': 1, 'r': 1, 'd': 1})\n"
     ]
    }
   ],
   "source": [
    "from collections import Counter\n",
    "\n",
    "text = \"hello world\"\n",
    "letter_count = Counter(text)\n",
    "\n",
    "print(\"Letter Frequency Dictionary:\", letter_count)\n"
   ]
  },
  {
   "cell_type": "markdown",
   "id": "de5a20eb-905f-4f08-a4c1-6a247944ea80",
   "metadata": {},
   "source": [
    "# Q60) Sample string:'w3resource' Expected output: • {'3': 1,’s’: 1, 'r': 2, 'u': 1, 'w': 1, 'c': 1, 'e': 2, 'o': 1}"
   ]
  },
  {
   "cell_type": "code",
   "execution_count": 44,
   "id": "02973e2e-3168-4d7a-85cd-c0469f79cc9e",
   "metadata": {},
   "outputs": [
    {
     "name": "stdout",
     "output_type": "stream",
     "text": [
      "{'w': 1, '3': 1, 'r': 2, 'e': 2, 's': 1, 'o': 1, 'u': 1, 'c': 1}\n"
     ]
    }
   ],
   "source": [
    "from collections import Counter\n",
    "\n",
    "text = \"w3resource\"\n",
    "\n",
    "letter_count = Counter(text)\n",
    "print(dict(letter_count))\n"
   ]
  },
  {
   "cell_type": "markdown",
   "id": "cb5f17ac-aded-47bb-9e5e-8d5b760fabf9",
   "metadata": {},
   "source": [
    "# Q61) Write a Python function to calculate the factorial of a number (a nonnegative integer)"
   ]
  },
  {
   "cell_type": "code",
   "execution_count": 45,
   "id": "7b2a3947-0720-40a1-a0b4-065a8edbc73f",
   "metadata": {},
   "outputs": [
    {
     "name": "stdout",
     "output_type": "stream",
     "text": [
      "120\n"
     ]
    }
   ],
   "source": [
    "def fact_recursive(n):\n",
    "    if n == 0 or n == 1:\n",
    "        return 1\n",
    "    return n * fact_recursive(n - 1)\n",
    "    \n",
    "print(fact_recursive(5)) \n"
   ]
  },
  {
   "cell_type": "markdown",
   "id": "ae7f23a1-2b33-45e9-ac4e-c95ebd9f13c3",
   "metadata": {},
   "source": [
    "# Q62) Write a Python function to check whether a number is in a given range"
   ]
  },
  {
   "cell_type": "code",
   "execution_count": 50,
   "id": "4b93041a-16ef-491a-92ac-c497d85972eb",
   "metadata": {},
   "outputs": [
    {
     "name": "stdout",
     "output_type": "stream",
     "text": [
      "The 5 is in a given range\n"
     ]
    }
   ],
   "source": [
    "def ran(a):\n",
    "    if a in range(1,100):\n",
    "        print(f\"The {a} is in a given range\")\n",
    "    else:\n",
    "        print(f\"The {a} is not in a given range\")\n",
    "ran(5)"
   ]
  },
  {
   "cell_type": "markdown",
   "id": "1a8cb678-789a-4ee0-b22d-6c630dd5da26",
   "metadata": {},
   "source": [
    "# Q63) Write a Python function to check whether a number is perfect or not."
   ]
  },
  {
   "cell_type": "code",
   "execution_count": 67,
   "id": "fde4b4d9-1dc5-405d-a7f5-6e2410642e9c",
   "metadata": {},
   "outputs": [
    {
     "name": "stdin",
     "output_type": "stream",
     "text": [
      "Enter a number:  28\n"
     ]
    },
    {
     "name": "stdout",
     "output_type": "stream",
     "text": [
      "28 Is a Perfect Number\n"
     ]
    }
   ],
   "source": [
    "def perfect(n):\n",
    "    summ = 0  \n",
    "    \n",
    "    for i in range(1, n):\n",
    "        if n % i == 0:\n",
    "            summ += i\n",
    "    return summ == n\n",
    "\n",
    "num = int(input(\"Enter a number: \"))\n",
    "\n",
    "if perfect(num):\n",
    "    print(num, \"Is a Perfect Number\")\n",
    "else:\n",
    "    print(num, \"Is NOT a Perfect Number\")\n"
   ]
  },
  {
   "cell_type": "markdown",
   "id": "a692d44d-4d4b-41ef-b7b5-2c0d0c62e0fa",
   "metadata": {},
   "source": [
    "# Q64) Write a Python function that checks whether a passed string is palindrome or not "
   ]
  },
  {
   "cell_type": "code",
   "execution_count": 70,
   "id": "195e327b-4d96-43d6-96fb-1c63000cba81",
   "metadata": {},
   "outputs": [
    {
     "name": "stdin",
     "output_type": "stream",
     "text": [
      "Enter a string:  aba\n"
     ]
    },
    {
     "name": "stdout",
     "output_type": "stream",
     "text": [
      "aba is a Palindrome\n"
     ]
    }
   ],
   "source": [
    "def palindrome(s):\n",
    "    return s == s[::-1]  \n",
    "    \n",
    "word = input(\"Enter a string: \")\n",
    "if palindrome(word):\n",
    "    print(word, \"is a Palindrome\")\n",
    "else:\n",
    "    print(word, \"is NOT a Palindrome\")\n"
   ]
  },
  {
   "cell_type": "markdown",
   "id": "160f1c87-88cd-4256-a21d-af7dabc787d0",
   "metadata": {},
   "source": [
    "# Q65) How Many Basic Types of Functions Are Available in Python?\n"
   ]
  },
  {
   "cell_type": "markdown",
   "id": "4bb2d850-5cac-4d5d-9514-1c5074fe4ad1",
   "metadata": {},
   "source": [
    "-->There are primarily three basic types of functions in Python: \n",
    "\n",
    "*Built-in functions:\n",
    "                These are functions that are readily available in Python without requiring any import. Examples include print(), len(), max(), min(), type(), etc.\n",
    "*User-defined functions:\n",
    "                These are functions created by the programmer to perform specific tasks. They are defined using the def keyword, followed by the function name, parameters, and the function body."
   ]
  },
  {
   "cell_type": "markdown",
   "id": "55c91e7f-b7f1-407c-94ef-bfeaa2c9596c",
   "metadata": {},
   "source": [
    "# Q66) How can you pick a random item from a list or tuple? \n"
   ]
  },
  {
   "cell_type": "markdown",
   "id": "5a9e68a2-4b0e-4848-816f-84128eb6bf27",
   "metadata": {},
   "source": [
    "-->You can use the random.choice() function from the random module to pick a random item from a list or tuple."
   ]
  },
  {
   "cell_type": "markdown",
   "id": "6aab41d9-4321-4676-abff-fdee2eb13c6c",
   "metadata": {},
   "source": [
    "# Q67) How can you pick a random item from a range?\n"
   ]
  },
  {
   "cell_type": "raw",
   "id": "ee0beb7f-e754-4f4e-bc39-83e8491a443b",
   "metadata": {},
   "source": [
    "-->You can pick a random item from a range using the random.choice(), random.randrange(), or random.randint() functions from the random module."
   ]
  },
  {
   "cell_type": "code",
   "execution_count": 73,
   "id": "7dc63440-b11c-43a5-bfd0-8c5a3b7dcbe2",
   "metadata": {},
   "outputs": [
    {
     "name": "stdout",
     "output_type": "stream",
     "text": [
      "Random number from range: 72\n"
     ]
    }
   ],
   "source": [
    "import random\n",
    "\n",
    "num = random.choice(range(1, 100))\n",
    "print(\"Random number from range:\", num)\n"
   ]
  },
  {
   "cell_type": "markdown",
   "id": "b07f1499-7a32-49de-bb4b-728a0c956667",
   "metadata": {},
   "source": [
    "# Q68) How can you get a random number in python?"
   ]
  },
  {
   "cell_type": "code",
   "execution_count": 86,
   "id": "e98cafcd-92a4-494f-8d54-b81c49dfef44",
   "metadata": {},
   "outputs": [
    {
     "name": "stdout",
     "output_type": "stream",
     "text": [
      "Random Number from Range :  73\n"
     ]
    }
   ],
   "source": [
    "import random\n",
    "\n",
    "num = random.randrange(1, 100, 2) \n",
    "print(\"Random Number from Range : \",num)\n"
   ]
  },
  {
   "cell_type": "markdown",
   "id": "b4f93913-fe21-45a1-a438-3a25d0372345",
   "metadata": {},
   "source": [
    "# Q69) How will you set the starting value in generating random numbers? \n"
   ]
  },
  {
   "cell_type": "markdown",
   "id": "0def056e-2773-43f2-afa6-2ae9d4fc9e05",
   "metadata": {},
   "source": [
    "-->You can set the starting value (seed) for generating random numbers in Python using the random.seed() function. This ensures that you get the same sequence of random numbers every time you run the program."
   ]
  },
  {
   "cell_type": "code",
   "execution_count": 89,
   "id": "6ceea17e-17cb-479a-8645-81151debc1cf",
   "metadata": {},
   "outputs": [
    {
     "name": "stdout",
     "output_type": "stream",
     "text": [
      "74\n"
     ]
    }
   ],
   "source": [
    "import random\n",
    "\n",
    "random.seed(10) \n",
    "print(random.randint(1, 100))  "
   ]
  },
  {
   "cell_type": "markdown",
   "id": "3e8442e0-0a39-43b4-8821-80146cb59309",
   "metadata": {},
   "source": [
    "# Q70) How will you randomize the items of a list in place? \n"
   ]
  },
  {
   "cell_type": "markdown",
   "id": "d7fe46af-8dd9-4507-9835-1c9b73bc152d",
   "metadata": {},
   "source": [
    "-->You can randomize (shuffle) the items of a list in place using the random.shuffle() function from the random module."
   ]
  },
  {
   "cell_type": "code",
   "execution_count": 91,
   "id": "3903e3e4-4608-4a26-9f6c-b51cefbee141",
   "metadata": {},
   "outputs": [
    {
     "name": "stdout",
     "output_type": "stream",
     "text": [
      "Shuffled List: [1, 3, 5, 4, 2]\n"
     ]
    }
   ],
   "source": [
    "import random\n",
    "\n",
    "my_list = [1, 2, 3, 4, 5]\n",
    "\n",
    "random.shuffle(my_list)\n",
    "\n",
    "print(\"Shuffled List:\", my_list)\n"
   ]
  },
  {
   "cell_type": "markdown",
   "id": "5a902ce6-0997-458d-a775-f52ca094d7a0",
   "metadata": {},
   "source": [
    "# Q71) What is File function in python? What are keywords to create and write file."
   ]
  },
  {
   "cell_type": "markdown",
   "id": "d5ef6077-38c5-4255-a0c5-d1b5d34b631a",
   "metadata": {},
   "source": [
    "-->In Python, file functions allow you to work with files, including creating, reading, writing, and closing them. The most commonly used file functions are:\n",
    "\"r\" - Read mode (default, opens an existing file for reading only)\n",
    "\"w\" - Write mode (creates a new file if it doesn't exist, overwrites existing content)\n",
    "\"a\" - Append mode (opens a file for adding data to the end)\n",
    "\"x\" - Create mode (creates a new file, raises an error if the file already exists)\n",
    "\"r+\" - Read and write mode (opens an existing file for both reading and writing)\n",
    "\"w+\" - Write and read mode (creates a new file if it doesn't exist, allows both writing and reading)\n",
    "\"a+\" - Append and read mode (opens a file for appending and reading)"
   ]
  },
  {
   "cell_type": "markdown",
   "id": "d863dc9b-c337-4452-a2ba-643708bb6385",
   "metadata": {},
   "source": [
    "# Q72) Write a Python program to read an entire text file."
   ]
  },
  {
   "cell_type": "code",
   "execution_count": 100,
   "id": "f14349f1-0cf9-4c05-93c9-07f429a844d3",
   "metadata": {},
   "outputs": [
    {
     "name": "stdout",
     "output_type": "stream",
     "text": [
      "my \n",
      "name\n",
      "is\n",
      "shrey\n",
      "I am student of B.teach\n"
     ]
    }
   ],
   "source": [
    "f = open(\"shrey.txt\",\"r\")\n",
    "write = f.read()\n",
    "print(write)\n",
    "f.close()"
   ]
  },
  {
   "cell_type": "markdown",
   "id": "5eecf6ab-c7c2-42e2-8883-7a20cb2bce83",
   "metadata": {},
   "source": [
    "# Q73) Write a Python program to append text to a file and display the text. "
   ]
  },
  {
   "cell_type": "code",
   "execution_count": 99,
   "id": "abf83186-c3ba-4ce8-800c-51756e433969",
   "metadata": {},
   "outputs": [],
   "source": [
    "f = open(\"shrey.txt\",\"a\")\n",
    "write = f.write(\"I am student of B.teach\")\n",
    "f.close()"
   ]
  },
  {
   "cell_type": "markdown",
   "id": "3f4436d3-1bb9-47a3-9f59-106c54602009",
   "metadata": {},
   "source": [
    "# Q74) Write a Python program to read first n lines of a file."
   ]
  },
  {
   "cell_type": "code",
   "execution_count": 101,
   "id": "de1f396a-620a-4555-acd7-05d65d85ed3b",
   "metadata": {},
   "outputs": [
    {
     "name": "stdin",
     "output_type": "stream",
     "text": [
      "Enter the number of line to read :  3\n"
     ]
    },
    {
     "name": "stdout",
     "output_type": "stream",
     "text": [
      "my \n",
      "name\n",
      "is\n"
     ]
    }
   ],
   "source": [
    "n=int(input(\"Enter the number of line to read : \"))\n",
    "f=open(\"shrey.txt\",\"r\")\n",
    "for i in range(n):\n",
    "    tex=f.readline()\n",
    "    print(tex,end=\"\")\n",
    "f.close()"
   ]
  },
  {
   "cell_type": "markdown",
   "id": "84554af5-18a5-4fba-ae7d-b0454ca37c86",
   "metadata": {},
   "source": [
    "# Q75) Write a Python program to read last n lines of a file."
   ]
  },
  {
   "cell_type": "code",
   "execution_count": 102,
   "id": "b1abc570-cec8-41a0-b2dd-270a33478651",
   "metadata": {},
   "outputs": [
    {
     "name": "stdin",
     "output_type": "stream",
     "text": [
      "Enter the number of line to read :  2\n"
     ]
    },
    {
     "name": "stdout",
     "output_type": "stream",
     "text": [
      "shrey\n",
      "I am student of B.teach"
     ]
    }
   ],
   "source": [
    "n=int(input(\"Enter the number of line to read : \"))\n",
    "f=open(\"shrey.txt\",\"r\")\n",
    "lines=f.readlines()\n",
    "if len(lines) <= n:\n",
    "    for line in lines:\n",
    "        print(line,end=\"\")\n",
    "else:\n",
    "    for line in lines[-n:]:\n",
    "        print(line,end=\"\")\n",
    "f.close()"
   ]
  },
  {
   "cell_type": "markdown",
   "id": "6a4ede74-c4b3-4ca7-a0dd-579b4ec46ed2",
   "metadata": {},
   "source": [
    "# Q76) Write a Python program to read a file line by line and store it into a list"
   ]
  },
  {
   "cell_type": "code",
   "execution_count": 103,
   "id": "ccf23a57-cf7d-49fc-80fe-27c4353f73d2",
   "metadata": {},
   "outputs": [
    {
     "name": "stdout",
     "output_type": "stream",
     "text": [
      "['my \\n', 'name\\n', 'is\\n', 'shrey\\n', 'I am student of B.teach']\n"
     ]
    }
   ],
   "source": [
    "with open(\"shrey.txt\",\"r\") as file:\n",
    "    lines = file.readlines()\n",
    "print(lines)"
   ]
  },
  {
   "cell_type": "markdown",
   "id": "be5e320a-727c-4054-bdfe-55b909198492",
   "metadata": {},
   "source": [
    "# Q77) Write a Python program to read a file line by line store it into a variable. "
   ]
  },
  {
   "cell_type": "code",
   "execution_count": 104,
   "id": "a8618368-2f2a-455a-ac78-2dd8631697a2",
   "metadata": {},
   "outputs": [
    {
     "name": "stdin",
     "output_type": "stream",
     "text": [
      "Enter the file path:  shrey.txt\n"
     ]
    },
    {
     "name": "stdout",
     "output_type": "stream",
     "text": [
      "The contents of the file are:\n",
      "my \n",
      "name\n",
      "is\n",
      "shrey\n",
      "I am student of B.teach\n"
     ]
    }
   ],
   "source": [
    "def read_file_line_by_line(file_path):\n",
    "    file_content = ''\n",
    "    with open(file_path, 'r') as file:\n",
    "        for line in file:\n",
    "            file_content += line\n",
    "    return file_content\n",
    "file_path = input(\"Enter the file path: \")\n",
    "content = read_file_line_by_line(file_path)\n",
    "print(\"The contents of the file are:\")\n",
    "print(content)"
   ]
  },
  {
   "cell_type": "markdown",
   "id": "3f83b4b9-9920-4675-9285-5e453d1711cb",
   "metadata": {},
   "source": [
    "# Q78) Write a python program to find the longest words"
   ]
  },
  {
   "cell_type": "code",
   "execution_count": 105,
   "id": "132d9aac-4192-4c4a-804d-69df43463fe6",
   "metadata": {},
   "outputs": [
    {
     "name": "stdin",
     "output_type": "stream",
     "text": [
      "Enter a sentence:  hello\n"
     ]
    },
    {
     "name": "stdout",
     "output_type": "stream",
     "text": [
      "The longest word(s): ['hello']\n",
      "Length of the longest word(s): 5\n"
     ]
    }
   ],
   "source": [
    "def find_longest_words(text):\n",
    "    words = text.split()\n",
    "    max_length = max(len(word) for word in words)\n",
    "    longest_words = [word for word in words if len(word) == max_length]\n",
    "    return longest_words, max_length\n",
    "text = input(\"Enter a sentence: \")\n",
    "longest_words, max_length = find_longest_words(text)\n",
    "print(f\"The longest word(s): {longest_words}\")\n",
    "print(f\"Length of the longest word(s): {max_length}\")"
   ]
  },
  {
   "cell_type": "markdown",
   "id": "8d846fe4-bac6-4c67-8b47-6996b134f029",
   "metadata": {},
   "source": [
    "# Q79) Write a Python program to count the number of lines in a text file."
   ]
  },
  {
   "cell_type": "code",
   "execution_count": 106,
   "id": "3d771b01-82e3-4647-b87b-ff2e4ef4eb1d",
   "metadata": {},
   "outputs": [
    {
     "name": "stdout",
     "output_type": "stream",
     "text": [
      "The file 'shrey.txt' contains 5 line(s).\n"
     ]
    }
   ],
   "source": [
    "with open(\"shrey.txt\", 'r') as file:\n",
    "    lines = file.readlines()\n",
    "    line_count = len(lines)\n",
    "print(f\"The file 'shrey.txt' contains {line_count} line(s).\")"
   ]
  },
  {
   "cell_type": "markdown",
   "id": "35f50241-d894-432b-b3c1-e6fb66024627",
   "metadata": {},
   "source": [
    "# Q80) Write a Python program to count the frequency of words in a file"
   ]
  },
  {
   "cell_type": "code",
   "execution_count": 107,
   "id": "be37e659-e4af-4332-a569-df3a05ebf2c7",
   "metadata": {},
   "outputs": [
    {
     "name": "stdin",
     "output_type": "stream",
     "text": [
      "Enter the file name (with extension):  shrey.txt\n"
     ]
    },
    {
     "name": "stdout",
     "output_type": "stream",
     "text": [
      "'my': 1\n",
      "'name': 1\n",
      "'is': 1\n",
      "'shrey': 1\n",
      "'i': 1\n",
      "'am': 1\n",
      "'student': 1\n",
      "'of': 1\n",
      "'b': 1\n",
      "'teach': 1\n"
     ]
    }
   ],
   "source": [
    "def count_word_frequency(file_name):\n",
    "    with open(file_name, 'r') as file:\n",
    "        content = file.read()\n",
    "    content = content.lower()\n",
    "    for char in \".,!?;:'\\\"()[]{}\":\n",
    "        content = content.replace(char, ' ')\n",
    "    words = content.split()\n",
    "    word_count = {}\n",
    "    for word in words:\n",
    "        if word in word_count:\n",
    "            word_count[word] += 1\n",
    "        else:\n",
    "            word_count[word] = 1\n",
    "    for word, count in word_count.items():\n",
    "        print(f\"'{word}': {count}\")\n",
    "file_name = input(\"Enter the file name (with extension): \")\n",
    "count_word_frequency(file_name)"
   ]
  },
  {
   "cell_type": "markdown",
   "id": "0c039afb-e34a-4aea-8448-9989dd961484",
   "metadata": {},
   "source": [
    "# Q81) Write a Python program to write a list to a file. "
   ]
  },
  {
   "cell_type": "code",
   "execution_count": 108,
   "id": "366e5e61-de37-4ffe-8e61-a0e58e8389b4",
   "metadata": {},
   "outputs": [
    {
     "name": "stdin",
     "output_type": "stream",
     "text": [
      "Enter the file name (with extension):  shrey.txt\n"
     ]
    },
    {
     "name": "stdout",
     "output_type": "stream",
     "text": [
      "The list has been written to shrey.txt.\n"
     ]
    }
   ],
   "source": [
    "my_list = [\"apple\", \"banana\", \"cherry\", \"date\"]\n",
    "\n",
    "file_name = input(\"Enter the file name (with extension): \")\n",
    "with open(file_name, 'w') as file:\n",
    "    for item in my_list:\n",
    "        file.write(item + \"\\n\")  \n",
    "\n",
    "print(f\"The list has been written to {file_name}.\")"
   ]
  },
  {
   "cell_type": "markdown",
   "id": "16de552f-5b35-4092-969c-78ec455ab6d8",
   "metadata": {},
   "source": [
    "# Q82) Write a Python program to copy the contents of a file to another file."
   ]
  },
  {
   "cell_type": "code",
   "execution_count": null,
   "id": "f89775df-8b20-49b7-b15d-2ff5be792f9e",
   "metadata": {},
   "outputs": [],
   "source": [
    "source_file = input(\"Enter the source file name (with extension): \")\n",
    "destination_file = input(\"Enter the destination file name (with extension): \")\n",
    "\n",
    "src = open(source_file, 'r')\n",
    "dest = open(destination_file, 'w')\n",
    "\n",
    "dest.write(src.read())\n",
    "\n",
    "src.close()\n",
    "dest.close()\n",
    "\n",
    "print(f\"Contents copied successfully from '{source_file}' to '{destination_file}'.\")"
   ]
  },
  {
   "cell_type": "code",
   "execution_count": null,
   "id": "2f21cc47-5dda-417b-b4ab-cf034086315e",
   "metadata": {},
   "outputs": [],
   "source": [
    "src = open(\"copy.txt\", 'r')\n",
    "f = src.read()\n",
    "print(f)"
   ]
  },
  {
   "cell_type": "markdown",
   "id": "a80870c5-046c-444b-a7a3-06495dcb11b5",
   "metadata": {},
   "source": [
    "# Q83) Explain Exception handling? What is an Error in Python?"
   ]
  },
  {
   "cell_type": "markdown",
   "id": "1df05d25-439e-43a9-9462-3e691c08a6fa",
   "metadata": {},
   "source": [
    "-> In Python, exception handling is a mechanism for gracefully dealing with errors that occur during the execution of a program.\n",
    "\n",
    "-> An error in Python is an issue that prevents the program from completing its task."
   ]
  },
  {
   "cell_type": "markdown",
   "id": "529211fa-8e98-46a9-ad40-7c903fa7de39",
   "metadata": {},
   "source": [
    "# Q84) How many except statements can a try-except block have? Name Some built-in exception classes: "
   ]
  },
  {
   "cell_type": "markdown",
   "id": "0d6d254a-cfe0-4b75-a100-46b5153b7e67",
   "metadata": {},
   "source": [
    "A try block can have multiple except statements to handle different types of exceptions. There is no strict limit to the number of except blocks, but they should handle specific exception types effectively.\n",
    "\n",
    "ArithmeticError:-   Base class for errors in arithmetic operations.\n",
    "ZeroDivisionError:- Raised when dividing by zero.\n",
    "OverflowError:-     Raised when a numeric operation exceeds limits.\n",
    "AttributeError:-    Raised when an attribute reference or assignment fails.\n",
    "EOFError:-          Raised when input() reaches end-of-file condition.\n",
    "FileNotFoundError:- Raised when a file or directory is requested but not found.\n",
    "IndexError:-        Raised when accessing an invalid index of a sequence (e.g., list or tuple).\n",
    "KeyError:-          Raised when a dictionary key is not found.\n",
    "NameError:-         Raised when a variable or name is not defined.\n",
    "TypeError:-         Raised when an operation or function is applied to an object of inappropriate type.\n",
    "ValueError:-        Raised when an operation receives an argument of the right type but inappropriate value.\n",
    "ImportError:-       Raised when an import statement fails."
   ]
  },
  {
   "cell_type": "markdown",
   "id": "2620d2b9-2710-47d0-904d-e90924147b67",
   "metadata": {},
   "source": [
    "# Q85) When will the else part of try-except-else be executed?"
   ]
  },
  {
   "cell_type": "markdown",
   "id": "9785b304-d211-4d2a-b541-8231aa5375f6",
   "metadata": {},
   "source": [
    "--> The 'else' block is executed when there are no exceptions raised within the try block. \n",
    "The 'else' block is useful when you want to perform specific actions when no exceptions occur. \n",
    "It can be used, for example, to execute additional code if the 'try' block succeeds in its operation \n",
    "and enhances the program flow."
   ]
  },
  {
   "cell_type": "markdown",
   "id": "13eef622-0691-4017-8100-23b483c54a9f",
   "metadata": {},
   "source": [
    "# Q86) Can one block of except statements handle multiple exception? "
   ]
  },
  {
   "cell_type": "markdown",
   "id": "36d8a6dc-f230-4d7c-98a5-e5f4cf62b465",
   "metadata": {},
   "source": [
    "--> Yes, multiple exceptions can be handled in a single except block in Python"
   ]
  },
  {
   "cell_type": "markdown",
   "id": "a2348470-227f-48b6-bf7a-a31dba191a1c",
   "metadata": {},
   "source": [
    "# Q87) When is the finally block executed?"
   ]
  },
  {
   "cell_type": "markdown",
   "id": "094b5c27-3e56-4249-a9e9-dd1ef53b6cb3",
   "metadata": {},
   "source": [
    "--> A finally block is executed when the try block exits, regardless of whether an exception occurs"
   ]
  },
  {
   "cell_type": "markdown",
   "id": "fe184b02-1e22-44b0-bc9c-4ffcdb426cf1",
   "metadata": {},
   "source": [
    "# Q88) What happens when „1‟== 1 is executed?"
   ]
  },
  {
   "cell_type": "code",
   "execution_count": 109,
   "id": "b4d40971-0315-4c0b-a596-8657a9498b9e",
   "metadata": {},
   "outputs": [
    {
     "data": {
      "text/plain": [
       "False"
      ]
     },
     "execution_count": 109,
     "metadata": {},
     "output_type": "execute_result"
    }
   ],
   "source": [
    "\"1\" == 1\n",
    "\n",
    "# we get a False"
   ]
  },
  {
   "cell_type": "markdown",
   "id": "8eb2db1b-9a8a-4f96-ad8c-2e82eb9742ad",
   "metadata": {},
   "source": [
    "# Q89) How Do You Handle Exceptions with Try/Except/Finally in Python? Explain with coding snippets. "
   ]
  },
  {
   "cell_type": "markdown",
   "id": "02ebb18e-a693-40e0-abe2-6d3d3b03a3d0",
   "metadata": {},
   "source": [
    "1) Try: This block will test the excepted error to occur\n",
    "2) Except:  Here you can handle the error\n",
    "3) Finally: Finally block always gets executed either exception is generated or not"
   ]
  },
  {
   "cell_type": "markdown",
   "id": "3a3b0ab1-4971-461e-8b26-c310f6a23322",
   "metadata": {},
   "source": [
    "# Q90) Write python program that user to enter only odd numbers, else will raise an exception. "
   ]
  },
  {
   "cell_type": "code",
   "execution_count": 113,
   "id": "8c6d8533-2ae3-4c48-9277-b3d4d572e51e",
   "metadata": {},
   "outputs": [
    {
     "name": "stdin",
     "output_type": "stream",
     "text": [
      "Enter an odd number:  5\n"
     ]
    },
    {
     "name": "stdout",
     "output_type": "stream",
     "text": [
      "Good job! You entered an odd number: 5\n"
     ]
    }
   ],
   "source": [
    "def prompt_odd_number():\n",
    "    try:\n",
    "        number = int(input(\"Enter an odd number: \"))\n",
    "        if number % 2 == 0:\n",
    "            raise ValueError(\"The entered number is not an odd number.\")\n",
    "        print(f\"Good job! You entered an odd number: {number}\")\n",
    "    except ValueError as e:\n",
    "        print(e)\n",
    "        \n",
    "prompt_odd_number()"
   ]
  }
 ],
 "metadata": {
  "kernelspec": {
   "display_name": "Python 3 (ipykernel)",
   "language": "python",
   "name": "python3"
  },
  "language_info": {
   "codemirror_mode": {
    "name": "ipython",
    "version": 3
   },
   "file_extension": ".py",
   "mimetype": "text/x-python",
   "name": "python",
   "nbconvert_exporter": "python",
   "pygments_lexer": "ipython3",
   "version": "3.12.7"
  }
 },
 "nbformat": 4,
 "nbformat_minor": 5
}
